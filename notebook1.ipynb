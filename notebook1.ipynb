{
 "cells": [
  {
   "cell_type": "markdown",
   "id": "80e83d36-57ea-4c01-9e33-4511b94e8b34",
   "metadata": {},
   "source": [
    "# Jiaqi Yang"
   ]
  },
  {
   "cell_type": "markdown",
   "id": "d60ade5c-4ad1-4367-a571-841ba3f903b1",
   "metadata": {},
   "source": [
    "# text chunk"
   ]
  },
  {
   "cell_type": "code",
   "execution_count": 1,
   "id": "59ba5bba-86c7-4fff-ab25-22ef380bf0f3",
   "metadata": {},
   "outputs": [
    {
     "data": {
      "text/plain": [
       "8"
      ]
     },
     "execution_count": 1,
     "metadata": {},
     "output_type": "execute_result"
    }
   ],
   "source": [
    "4+4"
   ]
  },
  {
   "cell_type": "code",
   "execution_count": null,
   "id": "d90ecb6c-db9d-46f5-8611-ea1a38d00413",
   "metadata": {},
   "outputs": [],
   "source": []
  }
 ],
 "metadata": {
  "kernelspec": {
   "display_name": "Python 3 (ipykernel)",
   "language": "python",
   "name": "python3"
  },
  "language_info": {
   "codemirror_mode": {
    "name": "ipython",
    "version": 3
   },
   "file_extension": ".py",
   "mimetype": "text/x-python",
   "name": "python",
   "nbconvert_exporter": "python",
   "pygments_lexer": "ipython3",
   "version": "3.9.7"
  }
 },
 "nbformat": 4,
 "nbformat_minor": 5
}
